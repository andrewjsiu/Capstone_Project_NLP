{
 "cells": [
  {
   "cell_type": "markdown",
   "metadata": {
    "collapsed": true
   },
   "source": [
    "# NLP: Analyzing Healthcare Reviews\n",
    "\n",
    "## Introduction\n",
    "\n",
    "It is difficult to find a good doctor who will always take the patient’s best interest as top priority. Although patients are no experts, they do have the first-hand experience of the treatment and know exactly how they feel before and after treatment. One way to judge the quality of a doctor’s diagnosis or treatment is to go directly to listen to what the patients would say. Yelp’s business dataset contains 10,211 different healthcare organizations in 11 cities across 4 countries and 114,556 reviews about them.  \n",
    "\n",
    "I propose to analyze Yelp reviews on hospitals, doctors, dentists and other health professionals to better understand what makes a healthcare practice excellent from the patients’ perspective. I will use latent Dirichlet allocation (LDA) to discover prominent topics among these one hundred thousand reviews on patients’ experiences. Such topic modelling will help us see the common themes that patients tend to compliment or complain about. I can use pyLDAvis library to visualize the topic model with an interactive interface to help explore the topics discovered. \n",
    "\n",
    "I will also train a word vector model with word2vec using gensim library. I can visualize the word vectors by reducing dimensionality with t-Distributed Stochastic Neighbor Embedding. This word2vec model can be used to produce automatic summary of all the reviews of a healthcare practice or to predict the positive or negative sentiment toward a practice in a review. \n",
    "\n",
    "In sum, the automatic summary of key points for each healthcare practice will make it easier for patients to find a good-quality doctor who genuinely cares for the patients. Insights on what patients tend to compliment or complain about will help healthcare practices improve their service by gaining a more thorough understanding what it is like to be at the receiving end of various treatments. \n",
    "\n",
    "\n",
    "\n",
    "## Overview\n",
    "\n",
    "1. Use [**spaCy**](https://spacy.io) to process text: Tokenization, text normalization, sentence detection \n",
    "1. Apply phrase modeling: Look for words that appear one after another as multi-word concepts\n",
    "1. Discover topics with LDA: Find topics for each review based on the words used\n",
    "1. Visualize the topic model with [**pyLDAvis**](https://pyldavis.readthedocs.io/en/latest/readme.html) library\n",
    "1. Describe text with LDA: Each review might look like Topic A and Topic B with some probabilities\n",
    "1. Train a word vector model with word2vec using [**gensim**](https://radimrehurek.com/gensim/index.html) library: Predict which word will appear in a given context\n",
    "1. Visuailize word vectors by reducing dimensionality with t-Distributed Stochastic Neighbor Embedding or [TSNE](http://scikit-learn.org/stable/modules/generated/sklearn.manifold.TSNE.html)"
   ]
  },
  {
   "cell_type": "code",
   "execution_count": 1,
   "metadata": {
    "collapsed": false
   },
   "outputs": [
    {
     "name": "stdout",
     "output_type": "stream",
     "text": [
      "{\"business_id\":\"0DI8Dt2PJp07XkVvIElIcQ\",\"name\":\"Innovative Vapors\",\"neighborhood\":\"\",\"address\":\"227 E Baseline Rd, Ste J2\",\"city\":\"Tempe\",\"state\":\"AZ\",\"postal_code\":\"85283\",\"latitude\":33.3782141,\"longitude\":-111.936102,\"stars\":4.5,\"review_count\":17,\"is_open\":0,\"attributes\":[\"BikeParking: True\",\"BusinessAcceptsBitcoin: False\",\"BusinessAcceptsCreditCards: True\",\"BusinessParking: {'garage': False, 'street': False, 'validated': False, 'lot': True, 'valet': False}\",\"DogsAllowed: False\",\"RestaurantsPriceRange2: 2\",\"WheelchairAccessible: True\"],\"categories\":[\"Tobacco Shops\",\"Nightlife\",\"Vape Shops\",\"Shopping\"],\"hours\":[\"Monday 11:0-21:0\",\"Tuesday 11:0-21:0\",\"Wednesday 11:0-21:0\",\"Thursday 11:0-21:0\",\"Friday 11:0-22:0\",\"Saturday 10:0-22:0\",\"Sunday 11:0-18:0\"],\"type\":\"business\"}\n",
      "\n"
     ]
    }
   ],
   "source": [
    "import os\n",
    "import codecs\n",
    "\n",
    "data_directory = os.path.join('C:/Users/andre/Documents/', 'yelp_dataset_challenge_round9')\n",
    "\n",
    "businesses_filepath = os.path.join(data_directory, 'yelp_academic_dataset_business.json')\n",
    "\n",
    "with codecs.open(businesses_filepath, encoding='utf_8') as f:\n",
    "    first_business_record = f.readline() \n",
    "\n",
    "print (first_business_record)"
   ]
  },
  {
   "cell_type": "code",
   "execution_count": 2,
   "metadata": {
    "collapsed": false
   },
   "outputs": [
    {
     "name": "stdout",
     "output_type": "stream",
     "text": [
      "{\"review_id\":\"NxL8SIC5yqOdnlXCg18IBg\",\"user_id\":\"KpkOkG6RIf4Ra25Lhhxf1A\",\"business_id\":\"2aFiy99vNLklCx3T_tGS9A\",\"stars\":5,\"date\":\"2011-10-10\",\"text\":\"If you enjoy service by someone who is as competent as he is personable, I would recommend Corey Kaplan highly. The time he has spent here has been very productive and working with him educational and enjoyable. I hope not to need him again (though this is highly unlikely) but knowing he is there if I do is very nice. By the way, I'm not from El Centro, CA. but Scottsdale, AZ.\",\"useful\":0,\"funny\":0,\"cool\":0,\"type\":\"review\"}\n",
      "\n"
     ]
    }
   ],
   "source": [
    "review_json_filepath = os.path.join(data_directory, 'yelp_academic_dataset_review.json')\n",
    "\n",
    "with codecs.open(review_json_filepath, encoding='utf_8') as f:\n",
    "    first_review_record = f.readline()\n",
    "    \n",
    "print (first_review_record)"
   ]
  },
  {
   "cell_type": "code",
   "execution_count": 3,
   "metadata": {
    "collapsed": false
   },
   "outputs": [
    {
     "name": "stdout",
     "output_type": "stream",
     "text": [
      "10,211 health & medical entities in the dataset.\n"
     ]
    }
   ],
   "source": [
    "import json\n",
    "import numpy as np\n",
    "\n",
    "healthcare_ids = []\n",
    "\n",
    "# open the businesses file\n",
    "with codecs.open(businesses_filepath, encoding='utf_8') as f:\n",
    "    \n",
    "    # iterate through each line (json record) in the file\n",
    "    for business_json in f:\n",
    "        \n",
    "        # convert the json record to a Python dict\n",
    "        business = json.loads(business_json)\n",
    "        \n",
    "        # if this business has no categories or is not a target entity, skip to the next one\n",
    "        if business[u'categories'] is None or u'Health & Medical' not in business[u'categories']:\n",
    "            continue\n",
    "        # Remove businesses in BW, Germany\n",
    "        if u'BW' in business[u'state']:\n",
    "            continue\n",
    "        # Remove businesses that are restaurants, food and pets\n",
    "        if u'Restaurants' in business[u'categories'] or u'Food' in business[u'categories'] or 'Pets' in business[u'categories']:\n",
    "            continue\n",
    "            \n",
    "        # add the business id to our healthcare_ids set\n",
    "        healthcare_ids.append(business[u'business_id'])\n",
    "\n",
    "# Turn the list of ids into a set, which is faster for testing whether an element is in the set\n",
    "healthcare_ids = set(healthcare_ids)\n",
    "\n",
    "# print the number of unique ids in the dataset\n",
    "print ('{:,}'.format(len(healthcare_ids)), u'health & medical entities in the dataset.')"
   ]
  },
  {
   "cell_type": "code",
   "execution_count": 4,
   "metadata": {
    "collapsed": false
   },
   "outputs": [],
   "source": [
    "intermediate_directory = os.path.join(data_directory, 'intermediate')\n",
    "\n",
    "review_txt_filepath = os.path.join(intermediate_directory,\n",
    "                                   'review_text_all.txt')"
   ]
  },
  {
   "cell_type": "code",
   "execution_count": 5,
   "metadata": {
    "collapsed": false
   },
   "outputs": [
    {
     "name": "stdout",
     "output_type": "stream",
     "text": [
      "Text from 114,556 healthcare reviews written to the new txt file.\n"
     ]
    }
   ],
   "source": [
    "# Create a new file that contains only the text from reviews about healthcare entities.\n",
    "# One review per line in the this new file.\n",
    "    \n",
    "review_count = 0\n",
    "useful = []\n",
    "stars = []\n",
    "\n",
    "# create & open a new file in write mode\n",
    "with codecs.open(review_txt_filepath, 'w', encoding='utf_8') as review_txt_file:\n",
    "\n",
    "    # open the existing review json file\n",
    "    with codecs.open(review_json_filepath, encoding='utf_8') as review_json_file:\n",
    "\n",
    "        # loop through all reviews in the existing file and convert to dict\n",
    "        for review_json in review_json_file:\n",
    "            review = json.loads(review_json)\n",
    "\n",
    "            # if this review is not in the target set, skip to the next one\n",
    "            if review[u'business_id'] not in healthcare_ids:\n",
    "                continue\n",
    "\n",
    "            # write each review as a line in the new file\n",
    "            # escape newline characters in the original review text\n",
    "            if review[u'text'] is None:\n",
    "                print(review_count)\n",
    "            \n",
    "            review_txt_file.write(review[u'text'].replace('\\n', '\\\\n').replace('\\r','') + '\\n')\n",
    "            review_count += 1\n",
    "            useful.append(review[u'useful'])\n",
    "            stars.append(review[u'stars'])\n",
    "\n",
    "print (u'Text from {:,} healthcare reviews written to the new txt file.'.format(review_count))"
   ]
  },
  {
   "cell_type": "code",
   "execution_count": 8,
   "metadata": {
    "collapsed": false
   },
   "outputs": [],
   "source": [
    "useful = np.array(useful)\n",
    "stars = np.array(stars)\n",
    "luseful = np.log(useful+1)"
   ]
  },
  {
   "cell_type": "code",
   "execution_count": 7,
   "metadata": {
    "collapsed": false
   },
   "outputs": [],
   "source": [
    "%matplotlib inline\n",
    "import matplotlib.pyplot as plt\n",
    "import pandas as pd\n",
    "import numpy as np"
   ]
  },
  {
   "cell_type": "code",
   "execution_count": 9,
   "metadata": {
    "collapsed": false
   },
   "outputs": [
    {
     "data": {
      "image/png": "[encoded data removed]",
      "text/plain": [
       "<matplotlib.figure.Figure at 0x118ff0edd30>"
      ]
     },
     "metadata": {},
     "output_type": "display_data"
    }
   ],
   "source": [
    "hist, bins = np.histogram(stars, bins=5)\n",
    "plt.bar(range(1, 6), hist, color='green', width=0.8, align='center')\n",
    "plt.xlabel('Star Rating')\n",
    "plt.ylabel('Number of Reviews')\n",
    "plt.title('Star Ratings of Healthcare Entities')\n",
    "plt.show()"
   ]
  },
  {
   "cell_type": "code",
   "execution_count": 10,
   "metadata": {
    "collapsed": false
   },
   "outputs": [
    {
     "data": {
      "text/html": [
       "<div>\n",
       "<table border=\"1\" class=\"dataframe\">\n",
       "  <thead>\n",
       "    <tr style=\"text-align: right;\">\n",
       "      <th></th>\n",
       "      <th>useful_votes</th>\n",
       "      <th>counts</th>\n",
       "    </tr>\n",
       "  </thead>\n",
       "  <tbody>\n",
       "    <tr>\n",
       "      <th>0</th>\n",
       "      <td>0</td>\n",
       "      <td>61159</td>\n",
       "    </tr>\n",
       "    <tr>\n",
       "      <th>1</th>\n",
       "      <td>1</td>\n",
       "      <td>25861</td>\n",
       "    </tr>\n",
       "    <tr>\n",
       "      <th>2</th>\n",
       "      <td>2</td>\n",
       "      <td>12042</td>\n",
       "    </tr>\n",
       "    <tr>\n",
       "      <th>3</th>\n",
       "      <td>3</td>\n",
       "      <td>6273</td>\n",
       "    </tr>\n",
       "    <tr>\n",
       "      <th>4</th>\n",
       "      <td>4</td>\n",
       "      <td>3345</td>\n",
       "    </tr>\n",
       "  </tbody>\n",
       "</table>\n",
       "</div>"
      ],
      "text/plain": [
       "   useful_votes  counts\n",
       "0             0   61159\n",
       "1             1   25861\n",
       "2             2   12042\n",
       "3             3    6273\n",
       "4             4    3345"
      ]
     },
     "execution_count": 10,
     "metadata": {},
     "output_type": "execute_result"
    }
   ],
   "source": [
    "unique, counts = np.unique(useful, return_counts = True)\n",
    "table = pd.DataFrame(np.array((unique,counts)).T, columns=['useful_votes','counts'])\n",
    "table.head()"
   ]
  },
  {
   "cell_type": "code",
   "execution_count": 11,
   "metadata": {
    "collapsed": false
   },
   "outputs": [
    {
     "data": {
      "image/png": "[encoded data removed]",
      "text/plain": [
       "<matplotlib.figure.Figure at 0x1188079d3c8>"
      ]
     },
     "metadata": {},
     "output_type": "display_data"
    }
   ],
   "source": [
    "plt.bar(unique,counts)\n",
    "plt.xlabel('Number of Useful Votes a Review Receives')\n",
    "plt.ylabel('Number of Reviews')\n",
    "plt.title('Useful Votes of Healthcare Reviews')\n",
    "plt.show()"
   ]
  },
  {
   "cell_type": "code",
   "execution_count": 12,
   "metadata": {
    "collapsed": false
   },
   "outputs": [
    {
     "data": {
      "image/png": "[encoded data removed]",
      "text/plain": [
       "<matplotlib.figure.Figure at 0x11880872f60>"
      ]
     },
     "metadata": {},
     "output_type": "display_data"
    }
   ],
   "source": [
    "plt.hist(luseful, bins = 10, width = 0.3, align='mid')\n",
    "plt.xlabel('Log(Number of Useful Votes a Review Receives + 1)')\n",
    "plt.ylabel('Number of Reviews')\n",
    "plt.title('Log of Useful Votes to Healthcare Reviews')\n",
    "plt.show()"
   ]
  },
  {
   "cell_type": "markdown",
   "metadata": {
    "collapsed": true
   },
   "source": [
    "### Preprocessing the Text\n",
    "\n",
    "Use spaCy to tokenize, lemmitize and remove stopwords from the text. Apply phrase modeling by looking for words that tend to appear one after another more frequently than by random chance."
   ]
  },
  {
   "cell_type": "code",
   "execution_count": 13,
   "metadata": {
    "collapsed": true
   },
   "outputs": [],
   "source": [
    "import spacy\n",
    "import pandas as pd\n",
    "import itertools as it\n",
    "\n",
    "nlp = spacy.load('en')"
   ]
  },
  {
   "cell_type": "code",
   "execution_count": null,
   "metadata": {
    "collapsed": false
   },
   "outputs": [],
   "source": [
    "with codecs.open(review_txt_filepath, encoding='utf_8') as f:\n",
    "    sample_review = list(it.islice(f, 9005, 10000))[0]\n",
    "    sample_review = sample_review.replace('\\\\n', '\\n')\n",
    "        \n",
    "print (sample_review)"
   ]
  },
  {
   "cell_type": "code",
   "execution_count": 14,
   "metadata": {
    "collapsed": true
   },
   "outputs": [],
   "source": [
    "import warnings\n",
    "warnings.filterwarnings(action='ignore', category=UserWarning, module='gensim')\n",
    "from gensim.models import Phrases\n",
    "from gensim.models.word2vec import LineSentence"
   ]
  },
  {
   "cell_type": "code",
   "execution_count": null,
   "metadata": {
    "collapsed": true
   },
   "outputs": [],
   "source": [
    "def punct_space(token):\n",
    "    \"\"\"Eliminate tokens that are pure punctuation or white space\"\"\"\n",
    "    \n",
    "    return token.is_punct or token.is_space\n",
    "\n",
    "def person(token):\n",
    "    \"\"\"Remove tokens that are PERSON entities\"\"\"\n",
    "    \n",
    "    return token.ent_type_ == 'PERSON'\n",
    "\n",
    "def line_review(filename):\n",
    "    \"\"\"Generator function (iterator without storing all texts)\n",
    "    to read in reviews from file and return the original line breaks\"\"\"\n",
    "    \n",
    "    with codecs.open(filename, encoding='utf_8') as f:\n",
    "        for review in f:\n",
    "            yield review.replace('\\\\n', '\\n')\n",
    "\n",
    "def lemmatized_sentence_corpus(filename):\n",
    "    \"\"\"Generator function to use spaCy to parse reviews, lemmatize the text and yield sentences\"\"\"\n",
    "    \n",
    "    for parsed_review in nlp.pipe(line_review(filename), batch_size=10000, n_threads=4):\n",
    "        for sent in parsed_review.sents:\n",
    "            yield u' '.join([token.lemma_ for token in sent if not (punct_space(token) or person(token))])"
   ]
  },
  {
   "cell_type": "code",
   "execution_count": null,
   "metadata": {
    "collapsed": true
   },
   "outputs": [],
   "source": [
    "unigram_sentences_filepath = os.path.join(intermediate_directory, 'unigram_sentences_all.txt')"
   ]
  },
  {
   "cell_type": "code",
   "execution_count": null,
   "metadata": {
    "collapsed": true
   },
   "outputs": [],
   "source": [
    "# Segment reviews into sentences and normalize the text\n",
    "# Save the parsed sentences file on disk to avoid storing the entire corpus in RAM\n",
    "if 1 == 1:\n",
    "    with codecs.open(unigram_sentences_filepath, 'w', encoding='utf_8') as f:\n",
    "        for sentence in lemmatized_sentence_corpus(review_txt_filepath):\n",
    "            f.write(sentence + '\\n')"
   ]
  },
  {
   "cell_type": "code",
   "execution_count": null,
   "metadata": {
    "collapsed": true
   },
   "outputs": [],
   "source": [
    "# gensim's LineSentence class takes the format: one sentence = one line\n",
    "# words are preprocessed and separated by whitespace.\n",
    "unigram_sentences = LineSentence(unigram_sentences_filepath)"
   ]
  },
  {
   "cell_type": "code",
   "execution_count": null,
   "metadata": {
    "collapsed": false
   },
   "outputs": [],
   "source": [
    "for unigram_sentence in it.islice(unigram_sentences, 2710, 2713):\n",
    "    print (unigram_sentence)"
   ]
  },
  {
   "cell_type": "code",
   "execution_count": null,
   "metadata": {
    "collapsed": false
   },
   "outputs": [],
   "source": [
    "bigram_model_filepath = os.path.join(intermediate_directory, 'bigram_model_all')"
   ]
  },
  {
   "cell_type": "code",
   "execution_count": null,
   "metadata": {
    "collapsed": true
   },
   "outputs": [],
   "source": [
    "# Run a phrase model to link two-words phrases together\n",
    "if 1 == 1:\n",
    "    bigram_model = Phrases(unigram_sentences)\n",
    "    bigram_model.save(bigram_model_filepath)\n",
    "\n",
    "else:\n",
    "    bigram_model = Phrases.load(bigram_model_filepath)"
   ]
  },
  {
   "cell_type": "code",
   "execution_count": null,
   "metadata": {
    "collapsed": false
   },
   "outputs": [],
   "source": [
    "bigram_sentences_filepath = os.path.join(intermediate_directory, 'bigram_sentences_all.txt')"
   ]
  },
  {
   "cell_type": "code",
   "execution_count": null,
   "metadata": {
    "collapsed": true
   },
   "outputs": [],
   "source": [
    "# Apply the bigram model to unigram sentences and create a text with bigram sentences\n",
    "if 1 == 1:\n",
    "    with codecs.open(bigram_sentences_filepath, 'w', encoding='utf-8') as f:\n",
    "        for unigram_sentence in unigram_sentences:\n",
    "            bigram_sentence = u' '.join(bigram_model[unigram_sentence])\n",
    "            f.write(bigram_sentence + '\\n')"
   ]
  },
  {
   "cell_type": "code",
   "execution_count": null,
   "metadata": {
    "collapsed": true
   },
   "outputs": [],
   "source": [
    "bigram_sentences = LineSentence(bigram_sentences_filepath)"
   ]
  },
  {
   "cell_type": "code",
   "execution_count": null,
   "metadata": {
    "collapsed": false
   },
   "outputs": [],
   "source": [
    "for bigram_sentence in it.islice(bigram_sentences, 2710, 2713):\n",
    "    print(bigram_sentence)"
   ]
  },
  {
   "cell_type": "code",
   "execution_count": null,
   "metadata": {
    "collapsed": true
   },
   "outputs": [],
   "source": [
    "trigram_model_filepath = os.path.join(intermediate_directory, 'trigram_model_all')"
   ]
  },
  {
   "cell_type": "code",
   "execution_count": null,
   "metadata": {
    "collapsed": true
   },
   "outputs": [],
   "source": [
    "if 1 == 1:\n",
    "    trigram_model = Phrases(bigram_sentences)\n",
    "    trigram_model.save(trigram_model_filepath)\n",
    "else:\n",
    "    trigram_model = Phrases.load(trigram_model_filepath)"
   ]
  },
  {
   "cell_type": "code",
   "execution_count": null,
   "metadata": {
    "collapsed": true
   },
   "outputs": [],
   "source": [
    "trigram_sentences_filepath = os.path.join(intermediate_directory, 'trigram_sentences_all.txt')"
   ]
  },
  {
   "cell_type": "code",
   "execution_count": null,
   "metadata": {
    "collapsed": true
   },
   "outputs": [],
   "source": [
    "if 1 == 1:\n",
    "    with codecs.open(trigram_sentences_filepath, 'w', encoding='utf_8') as f:\n",
    "        for bigram_sentence in bigram_sentences:\n",
    "            trigram_sentence = u' '.join(trigram_model[bigram_sentence])\n",
    "            f.write(trigram_sentence + '\\n')            "
   ]
  },
  {
   "cell_type": "code",
   "execution_count": null,
   "metadata": {
    "collapsed": true
   },
   "outputs": [],
   "source": [
    "trigram_sentences = LineSentence(trigram_sentences_filepath)"
   ]
  },
  {
   "cell_type": "code",
   "execution_count": null,
   "metadata": {
    "collapsed": false
   },
   "outputs": [],
   "source": [
    "for trigram_sentence in it.islice(trigram_sentences, 2710, 2713):\n",
    "    print(trigram_sentence)    "
   ]
  },
  {
   "cell_type": "code",
   "execution_count": null,
   "metadata": {
    "collapsed": true
   },
   "outputs": [],
   "source": [
    "trigram_reviews_filepath = os.path.join(intermediate_directory, 'trigram_transformed_reviews_all.txt')"
   ]
  },
  {
   "cell_type": "code",
   "execution_count": null,
   "metadata": {
    "collapsed": false
   },
   "outputs": [],
   "source": [
    "# Write a transformed text into a new file, with one review per line\n",
    "if 1 == 1:\n",
    "    with codecs.open(trigram_reviews_filepath, 'w', encoding='utf-8') as f:\n",
    "        for parsed_review in nlp.pipe(line_review(review_txt_filepath), batch_size=10000, n_threads=4):\n",
    "            # Lemmatize the text, removing punctuation and whitespace\n",
    "            unigram_review = [token.lemma_ for token in parsed_review if not (punct_space(token) or person(token))]\n",
    "            # Apply the first-order and second-order phrase models\n",
    "            bigram_review = bigram_model[unigram_review]\n",
    "            trigram_review = trigram_model[bigram_review]\n",
    "            # Remove any remaining stopwords\n",
    "            trigram_review = [term for term in trigram_review if term not in spacy.en.language_data.STOP_WORDS]\n",
    "            # Write the transformed review as a new line\n",
    "            trigram_review = u' '.join(trigram_review)\n",
    "            f.write(trigram_review + '\\n')"
   ]
  },
  {
   "cell_type": "code",
   "execution_count": null,
   "metadata": {
    "collapsed": false
   },
   "outputs": [],
   "source": [
    "print (u'Original:' + u'\\n')\n",
    "for review in it.islice(line_review(review_txt_filepath), 56043, 56047):\n",
    "    print(review)\n",
    "print(u'Transformed:' + u'\\n')\n",
    "with codecs.open(trigram_reviews_filepath, encoding='utf-8') as f:\n",
    "    for review in it.islice(f, 56043, 56047):\n",
    "        print(review)"
   ]
  },
  {
   "cell_type": "code",
   "execution_count": null,
   "metadata": {
    "collapsed": false
   },
   "outputs": [],
   "source": [
    "from gensim.corpora import Dictionary, MmCorpus\n",
    "from gensim.models.ldamulticore import LdaMulticore\n",
    "\n",
    "import pyLDAvis, pyLDAvis.gensim\n",
    "import warnings\n",
    "import pickle"
   ]
  },
  {
   "cell_type": "code",
   "execution_count": null,
   "metadata": {
    "collapsed": false
   },
   "outputs": [],
   "source": [
    "trigram_dictionary_filepath = os.path.join(intermediate_directory, 'trigram_dict_all.dict')"
   ]
  },
  {
   "cell_type": "code",
   "execution_count": null,
   "metadata": {
    "collapsed": true
   },
   "outputs": [],
   "source": [
    "# Learn the full vocabulary of the corpus, using gensim's Dictionary class\n",
    "if 1 == 1:\n",
    "    trigram_reviews = LineSentence(trigram_reviews_filepath)\n",
    "    # Learn the dictionary by iterating over all the reviews\n",
    "    trigram_dictionary = Dictionary(trigram_reviews)\n",
    "    # Filter out tokens that are too rare or too common\n",
    "    trigram_dictionary.filter_extremes(no_below=200, no_above=0.3)\n",
    "    # Filter out other unuseful words used in reviews\n",
    "    stoplist = set('feel tell come like'.split())\n",
    "    stop_ids = [trigram_dictionary.token2id[stopword] for stopword in stoplist]\n",
    "    #trigram_dictionary.filter_tokens(stop_ids)\n",
    "    # Reassign integer ids\n",
    "    trigram_dictionary.compactify()\n",
    "    trigram_dictionary.save(trigram_dictionary_filepath)\n",
    "\n",
    "trigram_dictionary = Dictionary.load(trigram_dictionary_filepath)"
   ]
  },
  {
   "cell_type": "code",
   "execution_count": null,
   "metadata": {
    "collapsed": true
   },
   "outputs": [],
   "source": [
    "trigram_bow_filepath = os.path.join(intermediate_directory, 'trigram_bow_corpus_all.mm')"
   ]
  },
  {
   "cell_type": "code",
   "execution_count": null,
   "metadata": {
    "collapsed": false
   },
   "outputs": [],
   "source": [
    "def trigram_bow_generator(filepath):\n",
    "    \"\"\"Generator function to read reviews from a file and yield a bag-of-words representation\"\"\"\n",
    "    for review in LineSentence(filepath):\n",
    "        yield trigram_dictionary.doc2bow(review)"
   ]
  },
  {
   "cell_type": "code",
   "execution_count": null,
   "metadata": {
    "collapsed": true
   },
   "outputs": [],
   "source": [
    "# Build a bag-of-words corpus\n",
    "if 1 == 1:\n",
    "    # Generate bag-of-words representations for all reviews and save them as a matrix\n",
    "    MmCorpus.serialize(trigram_bow_filepath, trigram_bow_generator(trigram_reviews_filepath))\n",
    "trigram_bow_corpus = MmCorpus(trigram_bow_filepath)"
   ]
  },
  {
   "cell_type": "code",
   "execution_count": null,
   "metadata": {
    "collapsed": true
   },
   "outputs": [],
   "source": [
    "lda_model_filepath = os.path.join(intermediate_directory, 'lda_model_all')"
   ]
  },
  {
   "cell_type": "code",
   "execution_count": null,
   "metadata": {
    "collapsed": false
   },
   "outputs": [],
   "source": [
    "# To build the topic model, pass the bag-of-words matrix and Dictionary to LdaMulticore as inputs\n",
    "if 1 == 1:\n",
    "    with warnings.catch_warnings():\n",
    "        warnings.simplefilter('ignore')\n",
    "        \n",
    "        # workers = # of cores minus one\n",
    "        lda = LdaMulticore(trigram_bow_corpus, num_topics=30, id2word=trigram_dictionary, \n",
    "                           workers=3, iterations=300, passes=5, random_state=0)\n",
    "        \n",
    "    lda.save(lda_model_filepath)\n",
    "lda = LdaMulticore.load(lda_model_filepath)"
   ]
  },
  {
   "cell_type": "markdown",
   "metadata": {
    "collapsed": true
   },
   "source": [
    "### Topic Modeling\n",
    "\n",
    "Among the 30 topics, there are about 5 clearly positive topics. One is extremely emotional, using words such as awesome, super, sweet and love. Another is more descriptive with words like friendly, clean, professional and knowledgeable. The third topic uses words such as care, truly and compassionate. The fourth is about the 'amazing' results from cosmetic surgeries or treatments, and the fifth is about a somewhat 'comfortable' experience at the dentist. \n",
    "\n",
    "On the opposite side, there are 4 topics that are likely to be negative. One uses word like rude, bad, and attitude. Another topic talks about wait, hour and waiting room. The third topic mentions manager, error, cancel and refund, and the last topic focuses on insurance, bill, and payment.\n",
    "\n",
    "The model identifies some other clear topics such as pediatrics, optometrist, surgery, chiropractor, primary care physician, pregnancy and delivery, hospital and emergency room, prescription and drugs, and a more neutral topic on the dentists focusing on actual works of crown, root canal and cavity. There is also a topic for fitness and yoga instructors and another for massage therapists. Some people also comment on topics such as making appointments, referring to other Yelp reviews, inquiring for lab results or medical records, and talking about the price, discount and coupons.\n",
    "\n",
    "\n"
   ]
  },
  {
   "cell_type": "code",
   "execution_count": null,
   "metadata": {
    "collapsed": false
   },
   "outputs": [],
   "source": [
    "def explore_topic(topic_number, topn=10):\n",
    "    \"\"\"Print out a list of top terms for a specified topic number\"\"\"\n",
    "    print (u'{:20} {}'.format(u'Topic ' + str(topic_number), u'Frequency') + u'\\n')\n",
    "    for term, frequency in lda.show_topic(topic_number, topn):\n",
    "        print(u'{:20} {:.3f}'.format(term, round(frequency, 3)))\n",
    "    print (u' ')"
   ]
  },
  {
   "cell_type": "code",
   "execution_count": null,
   "metadata": {
    "collapsed": true
   },
   "outputs": [],
   "source": [
    "LDAvis_data_filepath = os.path.join(intermediate_directory, 'ldavis_prepared')"
   ]
  },
  {
   "cell_type": "code",
   "execution_count": null,
   "metadata": {
    "collapsed": true
   },
   "outputs": [],
   "source": [
    "if 1 == 1:\n",
    "    LDAvis_prepared = pyLDAvis.gensim.prepare(lda, trigram_bow_corpus, trigram_dictionary)\n",
    "    with open(LDAvis_data_filepath, 'wb') as f:\n",
    "        pickle.dump(LDAvis_prepared, f)"
   ]
  },
  {
   "cell_type": "code",
   "execution_count": null,
   "metadata": {
    "collapsed": false,
    "scrolled": true
   },
   "outputs": [],
   "source": [
    "pyLDAvis.display(LDAvis_prepared)"
   ]
  },
  {
   "cell_type": "code",
   "execution_count": null,
   "metadata": {
    "collapsed": true
   },
   "outputs": [],
   "source": [
    "pyLDAvis.save_html(LDAvis_prepared, 'LDAvis30a.html')"
   ]
  },
  {
   "cell_type": "code",
   "execution_count": null,
   "metadata": {
    "collapsed": false
   },
   "outputs": [],
   "source": [
    "from gensim.models import Word2Vec\n",
    "word2vec_filepath = os.path.join(intermediate_directory, 'word2vec_model_all')"
   ]
  },
  {
   "cell_type": "code",
   "execution_count": null,
   "metadata": {
    "collapsed": true
   },
   "outputs": [],
   "source": [
    "if 1 == 1:\n",
    "    word2vec = Word2Vec(trigram_sentences, size=100, window=5, min_count=20, sg=0, workers=4)\n",
    "    word2vec.save(word2vec_filepath)\n",
    "\n",
    "word2vec = Word2Vec.load(word2vec_filepath)"
   ]
  },
  {
   "cell_type": "code",
   "execution_count": null,
   "metadata": {
    "collapsed": false
   },
   "outputs": [],
   "source": [
    "print(u'{:,} terms in the word2vec vocabulary.'.format(len(word2vec.wv.vocab)))"
   ]
  },
  {
   "cell_type": "code",
   "execution_count": null,
   "metadata": {
    "collapsed": false
   },
   "outputs": [],
   "source": [
    "# build a list of terms, index, and term counts from the word2vec model\n",
    "ordered_vocab = [(term, vocab.index, vocab.count) for term, vocab in word2vec.wv.vocab.items()]\n",
    "ordered_vocab = sorted(ordered_vocab, key=lambda ordered_vocab:ordered_vocab[2], reverse=True)\n",
    "ordered_terms, term_indices, term_counts = zip(*ordered_vocab)"
   ]
  },
  {
   "cell_type": "code",
   "execution_count": null,
   "metadata": {
    "collapsed": false,
    "scrolled": false
   },
   "outputs": [],
   "source": [
    "# Creat a dictionary mapping each word to a 100-dimensional vector\n",
    "word_vectors = dict(list(zip(word2vec.wv.index2word, word2vec.wv.syn0)))"
   ]
  },
  {
   "cell_type": "code",
   "execution_count": null,
   "metadata": {
    "collapsed": false
   },
   "outputs": [],
   "source": [
    "word2vec.most_similar(positive=['dentist'], topn=10)"
   ]
  },
  {
   "cell_type": "code",
   "execution_count": null,
   "metadata": {
    "collapsed": false
   },
   "outputs": [],
   "source": [
    "word2vec.most_similar(positive=['pediatrician', 'tooth'], negative=['children'],topn=5)"
   ]
  },
  {
   "cell_type": "code",
   "execution_count": null,
   "metadata": {
    "collapsed": false
   },
   "outputs": [],
   "source": [
    "word2vec.doesnt_match(\"dentist pediatrician optometrist midwife\".split())"
   ]
  },
  {
   "cell_type": "code",
   "execution_count": null,
   "metadata": {
    "collapsed": false
   },
   "outputs": [],
   "source": [
    "word2vec.similarity('pediatrician','dentist')"
   ]
  }
 ],
 "metadata": {
  "kernelspec": {
   "display_name": "Python 3",
   "language": "python",
   "name": "python3"
  },
  "language_info": {
   "codemirror_mode": {
    "name": "ipython",
    "version": 3
   },
   "file_extension": ".py",
   "mimetype": "text/x-python",
   "name": "python",
   "nbconvert_exporter": "python",
   "pygments_lexer": "ipython3",
   "version": "3.6.0"
  }
 },
 "nbformat": 4,
 "nbformat_minor": 2
}
