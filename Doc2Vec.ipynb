{
 "cells": [
  {
   "cell_type": "markdown",
   "metadata": {},
   "source": [
    "## NLP: Using Doc2Vec to Predict Review Usefulness"
   ]
  },
  {
   "cell_type": "code",
   "execution_count": 1,
   "metadata": {
    "collapsed": true
   },
   "outputs": [],
   "source": [
    "import os\n",
    "import codecs\n",
    "import json\n",
    "import numpy as np\n",
    "import pandas as pd\n",
    "import seaborn as sns\n",
    "\n",
    "%matplotlib inline\n",
    "import matplotlib.pyplot as plt\n",
    "\n",
    "data_directory = os.path.join('C:/Users/andre/Documents/yelp_dataset_challenge_round9')\n",
    "intermediate_directory = os.path.join(data_directory, 'intermediate')"
   ]
  },
  {
   "cell_type": "code",
   "execution_count": 2,
   "metadata": {
    "collapsed": true
   },
   "outputs": [],
   "source": [
    "df = pd.read_csv(os.path.join(intermediate_directory, 'useful.csv'))\n",
    "luseful = np.log(df['useful'] + 1)"
   ]
  },
  {
   "cell_type": "code",
   "execution_count": 3,
   "metadata": {
    "collapsed": true
   },
   "outputs": [],
   "source": [
    "# Gensim's Doc2Vec class creates vector representations for entire documents\n",
    "# The input object is an iterator of LineSentence objects\n",
    "# The default dm=1 refers to the distributed memory algorithm\n",
    "# The algorithm runs through sentences twice: (1) build the vocab, \n",
    "# (2) learn a vector representation for each word and for each label (sentence)\n",
    "# Better results can be achieved by iterating over the data several times\n",
    "\n",
    "import warnings\n",
    "warnings.filterwarnings(action='ignore', category=UserWarning, module='gensim')\n",
    "from gensim.models import Doc2Vec\n",
    "from gensim.models.doc2vec import LabeledSentence\n",
    "\n",
    "doc2vec_filepath = os.path.join(intermediate_directory, 'doc2vec_model')\n",
    "doc2vec = Doc2Vec.load(doc2vec_filepath)"
   ]
  },
  {
   "cell_type": "code",
   "execution_count": 4,
   "metadata": {
    "collapsed": false
   },
   "outputs": [
    {
     "name": "stdout",
     "output_type": "stream",
     "text": [
      "6,130 terms in the word2vec vocabulary.\n"
     ]
    }
   ],
   "source": [
    "print(u'{:,} terms in the word2vec vocabulary.'.format(len(doc2vec.wv.vocab)))"
   ]
  },
  {
   "cell_type": "code",
   "execution_count": 5,
   "metadata": {
    "collapsed": true
   },
   "outputs": [],
   "source": [
    "from sklearn.feature_extraction.text import CountVectorizer, TfidfVectorizer\n",
    "from sklearn.linear_model import LinearRegression, SGDRegressor, Lasso, Ridge\n",
    "from sklearn.ensemble import GradientBoostingRegressor, ExtraTreesRegressor, RandomForestRegressor\n",
    "from xgboost import XGBRegressor\n",
    "from sklearn.pipeline import Pipeline\n",
    "from sklearn.model_selection import KFold, cross_val_score, ShuffleSplit\n",
    "from sklearn.metrics import mean_squared_error, make_scorer\n",
    "from collections import defaultdict\n",
    "from tabulate import tabulate"
   ]
  },
  {
   "cell_type": "code",
   "execution_count": 6,
   "metadata": {
    "collapsed": true
   },
   "outputs": [],
   "source": [
    "def cv_rmse(model, X, y, cv=5, scoring='neg_mean_squared_error'):\n",
    "    \n",
    "    \"\"\" Compute an overall RMSE across all folds of cross validation\"\"\"\n",
    "    \n",
    "    return np.sqrt(np.mean(np.multiply(cross_val_score(\n",
    "    model, X, y, cv=cv, scoring='neg_mean_squared_error'), -1)))\n",
    "    \n",
    "def RMSE(y_true, y_pred):\n",
    "    \n",
    "    \"\"\" Root Mean Squared Error\"\"\"\n",
    "    \n",
    "    return np.sqrt(np.mean((y_true - y_pred)**2))\n",
    "\n",
    "def RMSLE(y_true, y_pred):\n",
    "    \n",
    "    \"\"\" Root Mean Squared Logarithmic Error\"\"\"\n",
    "    \n",
    "    return np.sqrt(np.mean(((np.log(y_true + 1) - np.log(y_pred + 1))**2)))"
   ]
  },
  {
   "cell_type": "code",
   "execution_count": 7,
   "metadata": {
    "collapsed": true
   },
   "outputs": [],
   "source": [
    "lr_d2v = Pipeline([(\"lr\", LinearRegression())])\n",
    "ridge_d2v = Pipeline([(\"ridge\", Ridge(alpha=1))])\n",
    "gbr_d2v = Pipeline([(\"gbr\", GradientBoostingRegressor(n_estimators=100))])\n",
    "rfr_d2v = Pipeline([(\"rfr\", RandomForestRegressor(n_estimators=100))])\n",
    "xgb_d2v = Pipeline([(\"xgb\", XGBRegressor(n_estimators=100))])"
   ]
  },
  {
   "cell_type": "code",
   "execution_count": 8,
   "metadata": {
    "collapsed": true
   },
   "outputs": [],
   "source": [
    "d2v_models = [(\"lr_d2v\", lr_d2v), (\"ridge_d2v\", ridge_d2v), (\"gbr_d2v\", gbr_d2v), \n",
    "              (\"rfr_d2v\", rfr_d2v), (\"xgb_d2v\", xgb_d2v)]\n",
    "\n",
    "d2v_rmse = [(name, cv_rmse(model, np.array(doc2vec.docvecs), luseful, cv=5)) \n",
    "              for name, model in d2v_models]"
   ]
  },
  {
   "cell_type": "code",
   "execution_count": 9,
   "metadata": {
    "collapsed": false
   },
   "outputs": [
    {
     "name": "stdout",
     "output_type": "stream",
     "text": [
      "model        RMSE_5cv\n",
      "---------  ----------\n",
      "xgb_d2v        0.5850\n",
      "gbr_d2v        0.5853\n",
      "rfr_d2v        0.5900\n",
      "ridge_d2v      0.5974\n",
      "lr_d2v         0.5974\n"
     ]
    }
   ],
   "source": [
    "print (tabulate(sorted(d2v_rmse, key=lambda x:x[1]), floatfmt=\".4f\", headers=(\"model\", \"RMSE_5cv\")))"
   ]
  },
  {
   "cell_type": "markdown",
   "metadata": {
    "collapsed": true
   },
   "source": [
    "### Predicting Review Usefulness Based on the Amount of Training Data\n"
   ]
  },
  {
   "cell_type": "code",
   "execution_count": 10,
   "metadata": {
    "collapsed": true
   },
   "outputs": [],
   "source": [
    "def benchmark(model, X, y, n):\n",
    "    ss = ShuffleSplit(n_splits=5, test_size = 1 - n, random_state=0)\n",
    "    scores = []\n",
    "    for train, test in ss.split(X,y):\n",
    "        scores.append(RMSE(y[test], model.fit(X[train],y[train]).predict(X[test])))\n",
    "    return np.mean(scores)"
   ]
  },
  {
   "cell_type": "code",
   "execution_count": 11,
   "metadata": {
    "collapsed": true
   },
   "outputs": [],
   "source": [
    "train_sizes = [0.3, 0.5, 0.7]\n",
    "table = []\n",
    "\n",
    "for name, model in d2v_models:\n",
    "    for n in train_sizes:\n",
    "        table.append({'model': name, \n",
    "                      'RMSE': benchmark(model, np.array(doc2vec.docvecs), luseful, n),\n",
    "                      'train_size': n})\n",
    "df = pd.DataFrame(table)"
   ]
  },
  {
   "cell_type": "code",
   "execution_count": 12,
   "metadata": {
    "collapsed": false
   },
   "outputs": [
    {
     "data": {
      "image/png": "[encoded data removed]",
      "text/plain": [
       "<matplotlib.figure.Figure at 0x253b06bc278>"
      ]
     },
     "metadata": {},
     "output_type": "display_data"
    }
   ],
   "source": [
    "plt.figure(figsize=(12,5))\n",
    "fig = sns.pointplot(x='train_size', y='RMSE', hue='model',\n",
    "                   data=df)\n",
    "sns.set_context('notebook', font_scale=1.5)\n",
    "fig.set(ylabel='RMSE')\n",
    "fig.set(xlabel='Training Size')\n",
    "fig.set(title='Model Comparison By Training Size')\n",
    "plt.show()"
   ]
  },
  {
   "cell_type": "code",
   "execution_count": 32,
   "metadata": {
    "collapsed": false
   },
   "outputs": [
    {
     "data": {
      "text/html": [
       "<div>\n",
       "<style>\n",
       "    .dataframe thead tr:only-child th {\n",
       "        text-align: right;\n",
       "    }\n",
       "\n",
       "    .dataframe thead th {\n",
       "        text-align: left;\n",
       "    }\n",
       "\n",
       "    .dataframe tbody tr th {\n",
       "        vertical-align: top;\n",
       "    }\n",
       "</style>\n",
       "<table border=\"1\" class=\"dataframe\">\n",
       "  <thead>\n",
       "    <tr style=\"text-align: right;\">\n",
       "      <th>train_size</th>\n",
       "      <th>0.3</th>\n",
       "      <th>0.5</th>\n",
       "      <th>0.7</th>\n",
       "    </tr>\n",
       "    <tr>\n",
       "      <th>model</th>\n",
       "      <th></th>\n",
       "      <th></th>\n",
       "      <th></th>\n",
       "    </tr>\n",
       "  </thead>\n",
       "  <tbody>\n",
       "    <tr>\n",
       "      <th>xgb_d2v</th>\n",
       "      <td>0.585045</td>\n",
       "      <td>0.583885</td>\n",
       "      <td>0.582770</td>\n",
       "    </tr>\n",
       "    <tr>\n",
       "      <th>gbr_d2v</th>\n",
       "      <td>0.585071</td>\n",
       "      <td>0.583958</td>\n",
       "      <td>0.582798</td>\n",
       "    </tr>\n",
       "    <tr>\n",
       "      <th>rfr_d2v</th>\n",
       "      <td>0.589895</td>\n",
       "      <td>0.588732</td>\n",
       "      <td>0.587925</td>\n",
       "    </tr>\n",
       "    <tr>\n",
       "      <th>ridge_d2v</th>\n",
       "      <td>0.596490</td>\n",
       "      <td>0.595505</td>\n",
       "      <td>0.594511</td>\n",
       "    </tr>\n",
       "    <tr>\n",
       "      <th>lr_d2v</th>\n",
       "      <td>0.596498</td>\n",
       "      <td>0.595508</td>\n",
       "      <td>0.594512</td>\n",
       "    </tr>\n",
       "  </tbody>\n",
       "</table>\n",
       "</div>"
      ],
      "text/plain": [
       "train_size       0.3       0.5       0.7\n",
       "model                                   \n",
       "xgb_d2v     0.585045  0.583885  0.582770\n",
       "gbr_d2v     0.585071  0.583958  0.582798\n",
       "rfr_d2v     0.589895  0.588732  0.587925\n",
       "ridge_d2v   0.596490  0.595505  0.594511\n",
       "lr_d2v      0.596498  0.595508  0.594512"
      ]
     },
     "execution_count": 32,
     "metadata": {},
     "output_type": "execute_result"
    }
   ],
   "source": [
    "pd.pivot_table(df, values='RMSE', index='model', columns='train_size').sort_values(by=0.3)"
   ]
  }
 ],
 "metadata": {
  "kernelspec": {
   "display_name": "Python 3",
   "language": "python",
   "name": "python3"
  },
  "language_info": {
   "codemirror_mode": {
    "name": "ipython",
    "version": 3
   },
   "file_extension": ".py",
   "mimetype": "text/x-python",
   "name": "python",
   "nbconvert_exporter": "python",
   "pygments_lexer": "ipython3",
   "version": "3.6.0"
  }
 },
 "nbformat": 4,
 "nbformat_minor": 2
}
