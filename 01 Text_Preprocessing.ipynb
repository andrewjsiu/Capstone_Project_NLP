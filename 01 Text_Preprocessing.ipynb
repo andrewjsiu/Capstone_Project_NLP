{
 "cells": [
  {
   "cell_type": "markdown",
   "metadata": {},
   "source": [
    "# NLP: Analyzing Healthcare Reviews and Predicting Their Useful Votes\n",
    "\n",
    "\n"
   ]
  },
  {
   "cell_type": "code",
   "execution_count": 1,
   "metadata": {
    "collapsed": true
   },
   "outputs": [],
   "source": [
    "import os\n",
    "import codecs\n",
    "import json\n",
    "import numpy as np\n",
    "import pandas as pd\n",
    "import seaborn as sns\n",
    "sns.set_style('white')\n",
    "sns.set_context('notebook', font_scale=1.5)\n",
    "\n",
    "%matplotlib inline\n",
    "import matplotlib.pyplot as plt\n",
    "\n",
    "data_directory = os.path.join('C:/Users/andre/Documents/yelp_dataset_challenge_round9')\n",
    "businesses_filepath = os.path.join(data_directory, 'yelp_academic_dataset_business.json')\n",
    "review_json_filepath = os.path.join(data_directory, 'yelp_academic_dataset_review.json')\n",
    "intermediate_directory = os.path.join(data_directory, 'intermediate')\n",
    "review_txt_filepath = os.path.join(intermediate_directory, 'review_text_all.txt')"
   ]
  },
  {
   "cell_type": "code",
   "execution_count": 2,
   "metadata": {
    "collapsed": false
   },
   "outputs": [
    {
     "name": "stdout",
     "output_type": "stream",
     "text": [
      "10,211 health & medical entities in the dataset.\n"
     ]
    }
   ],
   "source": [
    "healthcare_ids = []\n",
    "\n",
    "# open the businesses file\n",
    "with codecs.open(businesses_filepath, encoding='utf_8') as f:\n",
    "    \n",
    "    # iterate through each line (json record) in the file\n",
    "    for business_json in f:\n",
    "        \n",
    "        # convert the json record to a Python dict\n",
    "        business = json.loads(business_json)\n",
    "        \n",
    "        # if this business has no categories or is not a target entity, skip to the next one\n",
    "        if business[u'categories'] is None or u'Health & Medical' not in business[u'categories']:\n",
    "            continue\n",
    "        # Remove businesses in BW, Germany\n",
    "        if u'BW' in business[u'state']:\n",
    "            continue\n",
    "        # Remove businesses that are restaurants, food and pets\n",
    "        if u'Restaurants' in business[u'categories'] or u'Food' in business[u'categories'] or 'Pets' in business[u'categories']:\n",
    "            continue\n",
    "            \n",
    "        # add the business id to our healthcare_ids set\n",
    "        healthcare_ids.append(business[u'business_id'])\n",
    "\n",
    "# Turn the list of ids into a set, which is faster for testing whether an element is in the set\n",
    "healthcare_ids = set(healthcare_ids)\n",
    "\n",
    "# print the number of unique ids in the dataset\n",
    "print ('{:,}'.format(len(healthcare_ids)), u'health & medical entities in the dataset.')"
   ]
  },
  {
   "cell_type": "code",
   "execution_count": 3,
   "metadata": {
    "collapsed": false
   },
   "outputs": [
    {
     "name": "stdout",
     "output_type": "stream",
     "text": [
      "Text from 114,556 healthcare reviews written to the new txt file.\n"
     ]
    }
   ],
   "source": [
    "# Create a new file that contains only the text from reviews about healthcare entities.\n",
    "# One review per line in the this new file.\n",
    "    \n",
    "review_count = 0\n",
    "useful = []\n",
    "\n",
    "# create & open a new file in write mode\n",
    "with codecs.open(review_txt_filepath, 'w', encoding='utf_8') as review_txt_file:\n",
    "\n",
    "    # open the existing review json file\n",
    "    with codecs.open(review_json_filepath, encoding='utf_8') as review_json_file:\n",
    "\n",
    "        # loop through all reviews in the existing file and convert to dict\n",
    "        for review_json in review_json_file:\n",
    "            review = json.loads(review_json)\n",
    "\n",
    "            # if this review is not in the target set, skip to the next one\n",
    "            if review[u'business_id'] not in healthcare_ids:\n",
    "                continue\n",
    "\n",
    "            # write each review as a line in the new file\n",
    "            # escape newline characters in the original review text\n",
    "            if review[u'text'] is None:\n",
    "                print(review_count)\n",
    "            \n",
    "            review_txt_file.write(review[u'text'].replace('\\n', '\\\\n').replace('\\r','') + '\\n')\n",
    "            review_count += 1\n",
    "            useful.append(review[u'useful'])\n",
    "\n",
    "print (u'Text from {:,} healthcare reviews written to the new txt file.'.format(review_count))"
   ]
  },
  {
   "cell_type": "code",
   "execution_count": 4,
   "metadata": {
    "collapsed": true
   },
   "outputs": [],
   "source": [
    "useful = np.array(useful)\n",
    "luseful = np.log(useful+1)\n",
    "df = pd.DataFrame(useful, columns=['useful'])\n",
    "df.to_csv(os.path.join(intermediate_directory, 'useful.csv'))"
   ]
  },
  {
   "cell_type": "code",
   "execution_count": 18,
   "metadata": {
    "collapsed": false
   },
   "outputs": [
    {
     "data": {
      "image/png": "[encoded data removed]",
      "text/plain": [
       "<matplotlib.figure.Figure at 0x1b7727fb9e8>"
      ]
     },
     "metadata": {},
     "output_type": "display_data"
    }
   ],
   "source": [
    "unique, counts = np.unique(useful, return_counts = True)\n",
    "f, (ax1, ax2) = plt.subplots(1, 2, sharey=True)\n",
    "f.set_size_inches(12, 5)\n",
    "ax1.bar(unique,counts)\n",
    "ax1.set_title('Distribution of Healthcare Review Usefulness')\n",
    "ax1.set_xlabel('Useful Votes')\n",
    "ax1.set_ylabel('Number of Reviews')\n",
    "ax2.set_title('Distribution in Natural Log')\n",
    "ax2.hist(luseful, bins = 10, width = 0.3, align='mid')\n",
    "ax2.set_xlabel('Log(Useful Votes + 1)')\n",
    "f.savefig('useful_votes.png', dpi=100)\n",
    "plt.show()"
   ]
  },
  {
   "cell_type": "markdown",
   "metadata": {},
   "source": [
    "### Preprocessing the Text\n",
    "\n",
    "I use spaCy to tokenize, lemmitize and remove stopwords from the text. Apply phrase modeling by looking for words that tend to appear one after another more frequently than by random chance."
   ]
  },
  {
   "cell_type": "code",
   "execution_count": 7,
   "metadata": {
    "collapsed": true
   },
   "outputs": [],
   "source": [
    "import spacy\n",
    "import pandas as pd\n",
    "import itertools as it\n",
    "\n",
    "nlp = spacy.load('en')"
   ]
  },
  {
   "cell_type": "code",
   "execution_count": 8,
   "metadata": {
    "collapsed": true
   },
   "outputs": [],
   "source": [
    "import warnings\n",
    "warnings.filterwarnings(action='ignore', category=UserWarning, module='gensim')\n",
    "from gensim.models import Phrases\n",
    "from gensim.models.word2vec import LineSentence\n",
    "\n",
    "unigram_sentences_filepath = os.path.join(intermediate_directory, 'unigram_sentences_all.txt')\n",
    "bigram_model_filepath = os.path.join(intermediate_directory, 'bigram_model_all')\n",
    "bigram_sentences_filepath = os.path.join(intermediate_directory, 'bigram_sentences_all.txt')\n",
    "trigram_model_filepath = os.path.join(intermediate_directory, 'trigram_model_all')\n",
    "trigram_sentences_filepath = os.path.join(intermediate_directory, 'trigram_sentences_all.txt')\n",
    "trigram_reviews_filepath = os.path.join(intermediate_directory, 'trigram_transformed_reviews_all.txt')"
   ]
  },
  {
   "cell_type": "code",
   "execution_count": 9,
   "metadata": {
    "collapsed": true
   },
   "outputs": [],
   "source": [
    "def punct_space(token):\n",
    "    \"\"\"Eliminate tokens that are pure punctuation or white space\"\"\"\n",
    "    \n",
    "    return token.is_punct or token.is_space\n",
    "\n",
    "def person(token):\n",
    "    \"\"\"Remove tokens that are PERSON entities\"\"\"\n",
    "    \n",
    "    return token.ent_type_ == 'PERSON'\n",
    "\n",
    "def line_review(filename):\n",
    "    \"\"\"Generator function (iterator without storing all texts)\n",
    "    to read in reviews from file and return the original line breaks\"\"\"\n",
    "    \n",
    "    with codecs.open(filename, encoding='utf_8') as f:\n",
    "        for review in f:\n",
    "            yield review.replace('\\\\n', '\\n')\n",
    "\n",
    "def lemmatized_sentence_corpus(filename):\n",
    "    \"\"\"Generator function to use spaCy to parse reviews, lemmatize the text and yield sentences\"\"\"\n",
    "    \n",
    "    for parsed_review in nlp.pipe(line_review(filename), batch_size=10000, n_threads=4):\n",
    "        for sent in parsed_review.sents:\n",
    "            yield u' '.join([token.lemma_ for token in sent \n",
    "                             if not (punct_space(token) or person(token))])"
   ]
  },
  {
   "cell_type": "code",
   "execution_count": 10,
   "metadata": {
    "collapsed": true
   },
   "outputs": [],
   "source": [
    "# Segment reviews into sentences and normalize the text\n",
    "# Save the parsed sentences file on disk to avoid storing the entire corpus in RAM\n",
    "with codecs.open(unigram_sentences_filepath, 'w', encoding='utf_8') as f:\n",
    "    for sentence in lemmatized_sentence_corpus(review_txt_filepath):\n",
    "        f.write(sentence + '\\n')"
   ]
  },
  {
   "cell_type": "code",
   "execution_count": 11,
   "metadata": {
    "collapsed": true
   },
   "outputs": [],
   "source": [
    "# gensim's LineSentence class takes the format: one sentence = one line\n",
    "# words are preprocessed and separated by whitespace.\n",
    "unigram_sentences = LineSentence(unigram_sentences_filepath)"
   ]
  },
  {
   "cell_type": "code",
   "execution_count": 12,
   "metadata": {
    "collapsed": true
   },
   "outputs": [],
   "source": [
    "# Run a phrase model to link two-words phrases together\n",
    "bigram_model = Phrases(unigram_sentences)\n",
    "bigram_model.save(bigram_model_filepath)\n",
    "bigram_model = Phrases.load(bigram_model_filepath)"
   ]
  },
  {
   "cell_type": "code",
   "execution_count": 13,
   "metadata": {
    "collapsed": true
   },
   "outputs": [],
   "source": [
    "# Apply the bigram model to unigram sentences and create a text with bigram sentences\n",
    "with codecs.open(bigram_sentences_filepath, 'w', encoding='utf-8') as f:\n",
    "    for unigram_sentence in unigram_sentences:\n",
    "        bigram_sentence = u' '.join(bigram_model[unigram_sentence])\n",
    "        f.write(bigram_sentence + '\\n')"
   ]
  },
  {
   "cell_type": "code",
   "execution_count": 14,
   "metadata": {
    "collapsed": true
   },
   "outputs": [],
   "source": [
    "bigram_sentences = LineSentence(bigram_sentences_filepath)"
   ]
  },
  {
   "cell_type": "code",
   "execution_count": 15,
   "metadata": {
    "collapsed": true
   },
   "outputs": [],
   "source": [
    "trigram_model = Phrases(bigram_sentences)\n",
    "trigram_model.save(trigram_model_filepath)\n",
    "trigram_model = Phrases.load(trigram_model_filepath)"
   ]
  },
  {
   "cell_type": "code",
   "execution_count": 16,
   "metadata": {
    "collapsed": true
   },
   "outputs": [],
   "source": [
    "with codecs.open(trigram_sentences_filepath, 'w', encoding='utf_8') as f:\n",
    "    for bigram_sentence in bigram_sentences:\n",
    "        trigram_sentence = u' '.join(trigram_model[bigram_sentence])\n",
    "        f.write(trigram_sentence + '\\n') "
   ]
  },
  {
   "cell_type": "code",
   "execution_count": 17,
   "metadata": {
    "collapsed": false
   },
   "outputs": [],
   "source": [
    "trigram_sentences = LineSentence(trigram_sentences_filepath)"
   ]
  },
  {
   "cell_type": "code",
   "execution_count": 18,
   "metadata": {
    "collapsed": true
   },
   "outputs": [],
   "source": [
    "# Write a transformed text into a new file, with one review per line\n",
    "with codecs.open(trigram_reviews_filepath, 'w', encoding='utf-8') as f:\n",
    "    for parsed_review in nlp.pipe(line_review(review_txt_filepath), batch_size=10000, n_threads=4):\n",
    "\n",
    "        # Lemmatize the text, removing punctuation and whitespace\n",
    "        unigram_review = [token.lemma_ for token in parsed_review \n",
    "                          if not (punct_space(token) or person(token))]\n",
    "\n",
    "        # Apply the first-order and second-order phrase models\n",
    "        bigram_review = bigram_model[unigram_review]\n",
    "        trigram_review = trigram_model[bigram_review]\n",
    "\n",
    "        # Remove any remaining stopwords\n",
    "        trigram_review = [term for term in trigram_review \n",
    "                          if term not in spacy.en.language_data.STOP_WORDS]\n",
    "\n",
    "        # Write the transformed review as a new line\n",
    "        trigram_review = u' '.join(trigram_review)\n",
    "        f.write(trigram_review + '\\n')"
   ]
  },
  {
   "cell_type": "markdown",
   "metadata": {},
   "source": [
    "### Train a Word2Vec Model"
   ]
  },
  {
   "cell_type": "code",
   "execution_count": 19,
   "metadata": {
    "collapsed": true
   },
   "outputs": [],
   "source": [
    "from gensim.models import Word2Vec\n",
    "word2vec_filepath = os.path.join(intermediate_directory, 'word2vec_model_all')"
   ]
  },
  {
   "cell_type": "code",
   "execution_count": 20,
   "metadata": {
    "collapsed": false
   },
   "outputs": [],
   "source": [
    "# Train a word2vec model: 100-dimensional word vectors\n",
    "word2vec = Word2Vec(size=100, window=5, min_count=50, sg=0, workers=4)\n",
    "word2vec.build_vocab(trigram_sentences) \n",
    "word2vec.train(trigram_sentences, total_examples=word2vec.corpus_count, epochs=10)\n",
    "word2vec.save(word2vec_filepath)\n",
    "\n",
    "word2vec = Word2Vec.load(word2vec_filepath)"
   ]
  },
  {
   "cell_type": "code",
   "execution_count": 21,
   "metadata": {
    "collapsed": false
   },
   "outputs": [
    {
     "name": "stdout",
     "output_type": "stream",
     "text": [
      "6,382 terms in the word2vec vocabulary.\n"
     ]
    }
   ],
   "source": [
    "print(u'{:,} terms in the word2vec vocabulary.'.format(len(word2vec.wv.vocab)))"
   ]
  },
  {
   "cell_type": "code",
   "execution_count": 22,
   "metadata": {
    "collapsed": true
   },
   "outputs": [],
   "source": [
    "# build a list of terms, index, and term counts from the word2vec model\n",
    "ordered_vocab = [(term, vocab.index, vocab.count) for term, vocab in word2vec.wv.vocab.items()]\n",
    "ordered_vocab = sorted(ordered_vocab, key=lambda ordered_vocab:ordered_vocab[2], reverse=True)\n",
    "ordered_terms, term_indices, term_counts = zip(*ordered_vocab)"
   ]
  },
  {
   "cell_type": "code",
   "execution_count": 23,
   "metadata": {
    "collapsed": true
   },
   "outputs": [],
   "source": [
    "# Creat a dictionary mapping each word to a 100-dimensional vector\n",
    "word_vectors = dict(list(zip(word2vec.wv.index2word, word2vec.wv.syn0)))"
   ]
  },
  {
   "cell_type": "code",
   "execution_count": 24,
   "metadata": {
    "collapsed": false
   },
   "outputs": [
    {
     "data": {
      "text/plain": [
       "[('pediatric_dentist', 0.7773758172988892),\n",
       " ('orthodontist', 0.7484958171844482),\n",
       " ('dermatologist', 0.7320617437362671),\n",
       " ('pediatrician', 0.7221524715423584),\n",
       " ('gynecologist', 0.703641414642334)]"
      ]
     },
     "execution_count": 24,
     "metadata": {},
     "output_type": "execute_result"
    }
   ],
   "source": [
    "word2vec.most_similar(positive=['dentist'], topn=5)"
   ]
  },
  {
   "cell_type": "code",
   "execution_count": 25,
   "metadata": {
    "collapsed": false
   },
   "outputs": [
    {
     "data": {
      "text/plain": [
       "[('pediatrician', 0.662972092628479),\n",
       " ('doctor', 0.6485235691070557),\n",
       " ('ob', 0.6412153840065002),\n",
       " ('doc', 0.6246420741081238),\n",
       " ('dr', 0.6178021430969238)]"
      ]
     },
     "execution_count": 25,
     "metadata": {},
     "output_type": "execute_result"
    }
   ],
   "source": [
    "word2vec.most_similar(positive=['dentist', 'baby'], negative=['tooth'],topn=5)"
   ]
  },
  {
   "cell_type": "markdown",
   "metadata": {},
   "source": [
    "### Training a Doc2Vec Model"
   ]
  },
  {
   "cell_type": "code",
   "execution_count": 26,
   "metadata": {
    "collapsed": false
   },
   "outputs": [],
   "source": [
    "# Gensim's Doc2Vec class creates vector representations for entire documents\n",
    "# The input object is an iterator of LineSentence objects\n",
    "# The default dm=1 refers to the distributed memory algorithm\n",
    "# The algorithm runs through sentences twice: (1) build the vocab, \n",
    "# (2) learn a vector representation for each word and for each label (sentence)\n",
    "# Better results can be achieved by iterating over the data several times\n",
    "\n",
    "from gensim.models import Doc2Vec\n",
    "from gensim.models.doc2vec import LabeledSentence\n",
    "doc2vec_filepath = os.path.join(intermediate_directory, 'doc2vec_model')"
   ]
  },
  {
   "cell_type": "code",
   "execution_count": 28,
   "metadata": {
    "collapsed": false
   },
   "outputs": [],
   "source": [
    "X = []\n",
    "with codecs.open(trigram_reviews_filepath, encoding='utf-8') as f:\n",
    "    for review in f:\n",
    "        X.append(review)\n",
    "\n",
    "labels = ['Review_' + str(x) for x in range(len(X))]"
   ]
  },
  {
   "cell_type": "code",
   "execution_count": 29,
   "metadata": {
    "collapsed": true
   },
   "outputs": [],
   "source": [
    "class DocIterator():\n",
    "    def __init__(self, doc_list, labels_list):\n",
    "        self.labels_list = labels_list\n",
    "        self.doc_list = doc_list\n",
    "    def __iter__(self):\n",
    "        for idx, doc in enumerate(self.doc_list):\n",
    "            yield LabeledSentence(words=doc.split(), tags=[self.labels_list[idx]])"
   ]
  },
  {
   "cell_type": "code",
   "execution_count": 30,
   "metadata": {
    "collapsed": true
   },
   "outputs": [],
   "source": [
    "labeled_reviews = DocIterator(X, labels)"
   ]
  },
  {
   "cell_type": "code",
   "execution_count": 31,
   "metadata": {
    "collapsed": false
   },
   "outputs": [],
   "source": [
    "# To produce better results, iterate over the data 10 times\n",
    "# and control the learning rate for each iteration\n",
    "doc2vec = Doc2Vec(size=100, window=5, min_count=50, workers=4, iter=10)\n",
    "doc2vec.build_vocab(labeled_reviews)\n",
    "\n",
    "doc2vec.train(labeled_reviews, total_examples=doc2vec.corpus_count, epochs=10)\n",
    "\n",
    "doc2vec.save(doc2vec_filepath)\n",
    "doc2vec.delete_temporary_training_data(keep_doctags_vectors=True, keep_inference=True)\n",
    "    \n",
    "doc2vec = Doc2Vec.load(doc2vec_filepath)"
   ]
  },
  {
   "cell_type": "code",
   "execution_count": 32,
   "metadata": {
    "collapsed": false,
    "scrolled": true
   },
   "outputs": [
    {
     "data": {
      "text/plain": [
       "[('obgyn', 0.6879574060440063),\n",
       " ('ped', 0.6675028800964355),\n",
       " ('gp', 0.6644524335861206),\n",
       " ('ob', 0.6589359045028687),\n",
       " ('pcp', 0.6388132572174072)]"
      ]
     },
     "execution_count": 32,
     "metadata": {},
     "output_type": "execute_result"
    }
   ],
   "source": [
    "doc2vec.most_similar(positive=[\"pediatrician\"], topn=5)"
   ]
  },
  {
   "cell_type": "code",
   "execution_count": 33,
   "metadata": {
    "collapsed": false,
    "scrolled": true
   },
   "outputs": [
    {
     "data": {
      "text/plain": [
       "[('dentist', 0.5935369729995728),\n",
       " ('pediatric_dentist', 0.5770177841186523),\n",
       " ('orthodontist', 0.5411350727081299),\n",
       " ('teeth', 0.5282765626907349),\n",
       " ('periodontist', 0.5172334909439087)]"
      ]
     },
     "execution_count": 33,
     "metadata": {},
     "output_type": "execute_result"
    }
   ],
   "source": [
    "doc2vec.most_similar(positive=['pediatrician','tooth'], negative=['baby'], topn=5)"
   ]
  },
  {
   "cell_type": "code",
   "execution_count": 34,
   "metadata": {
    "collapsed": false
   },
   "outputs": [
    {
     "data": {
      "text/plain": [
       "[('Review_28770', 0.7332645058631897),\n",
       " ('Review_55797', 0.7231159210205078),\n",
       " ('Review_77575', 0.7128130197525024),\n",
       " ('Review_33470', 0.7096557021141052),\n",
       " ('Review_55802', 0.709504246711731)]"
      ]
     },
     "execution_count": 34,
     "metadata": {},
     "output_type": "execute_result"
    }
   ],
   "source": [
    "doc2vec.docvecs.most_similar('Review_10', topn=5)"
   ]
  }
 ],
 "metadata": {
  "kernelspec": {
   "display_name": "Python 3",
   "language": "python",
   "name": "python3"
  },
  "language_info": {
   "codemirror_mode": {
    "name": "ipython",
    "version": 3
   },
   "file_extension": ".py",
   "mimetype": "text/x-python",
   "name": "python",
   "nbconvert_exporter": "python",
   "pygments_lexer": "ipython3",
   "version": "3.6.0"
  }
 },
 "nbformat": 4,
 "nbformat_minor": 2
}
